{
 "cells": [
  {
   "cell_type": "code",
   "execution_count": 1,
   "metadata": {},
   "outputs": [],
   "source": [
    "import os"
   ]
  },
  {
   "cell_type": "code",
   "execution_count": 4,
   "metadata": {},
   "outputs": [
    {
     "name": "stdout",
     "output_type": "stream",
     "text": [
      "['image_0', 'image_1', 'image_10', 'image_100', 'image_101', 'image_102', 'image_103', 'image_104', 'image_105', 'image_106', 'image_107', 'image_108', 'image_109', 'image_11', 'image_110', 'image_111', 'image_112', 'image_113', 'image_114', 'image_115', 'image_116', 'image_117', 'image_118', 'image_119', 'image_12', 'image_120', 'image_121', 'image_122', 'image_123', 'image_124', 'image_125', 'image_126', 'image_127', 'image_128', 'image_129', 'image_13', 'image_130', 'image_131', 'image_132', 'image_133', 'image_134', 'image_135', 'image_136', 'image_137', 'image_138', 'image_139', 'image_14', 'image_140', 'image_141', 'image_142', 'image_143', 'image_144', 'image_145', 'image_146', 'image_147', 'image_148', 'image_149', 'image_15', 'image_150', 'image_151', 'image_152', 'image_153', 'image_154', 'image_155', 'image_156', 'image_157', 'image_158', 'image_159', 'image_16', 'image_160', 'image_161', 'image_162', 'image_163', 'image_164', 'image_165', 'image_166', 'image_167', 'image_168', 'image_169', 'image_17', 'image_170', 'image_171', 'image_172', 'image_173', 'image_174', 'image_175', 'image_176', 'image_177', 'image_178', 'image_179', 'image_18', 'image_180', 'image_181', 'image_182', 'image_183', 'image_184', 'image_185', 'image_186', 'image_187', 'image_188', 'image_189', 'image_19', 'image_190', 'image_191', 'image_192', 'image_193', 'image_194', 'image_195', 'image_196', 'image_197', 'image_198', 'image_199', 'image_2', 'image_20', 'image_200', 'image_201', 'image_202', 'image_203', 'image_204', 'image_205', 'image_206', 'image_207', 'image_208', 'image_209', 'image_21', 'image_210', 'image_211', 'image_212', 'image_213', 'image_214', 'image_215', 'image_216', 'image_217', 'image_218', 'image_219', 'image_22', 'image_220', 'image_221', 'image_222', 'image_223', 'image_224', 'image_225', 'image_226', 'image_227', 'image_228', 'image_229', 'image_23', 'image_230', 'image_231', 'image_232', 'image_233', 'image_234', 'image_235', 'image_236', 'image_237', 'image_238', 'image_239', 'image_24', 'image_240', 'image_241', 'image_242', 'image_243', 'image_244', 'image_245', 'image_246', 'image_247', 'image_248', 'image_249', 'image_25', 'image_250', 'image_251', 'image_252', 'image_253', 'image_254', 'image_255', 'image_256', 'image_257', 'image_258', 'image_259', 'image_26', 'image_260', 'image_261', 'image_262', 'image_263', 'image_264', 'image_265', 'image_266', 'image_267', 'image_268', 'image_269', 'image_27', 'image_270', 'image_271', 'image_272', 'image_273', 'image_274', 'image_275', 'image_276', 'image_277', 'image_278', 'image_279', 'image_28', 'image_280', 'image_281', 'image_282', 'image_283', 'image_284', 'image_285', 'image_286', 'image_287', 'image_288', 'image_289', 'image_29', 'image_290', 'image_291', 'image_292', 'image_293', 'image_294', 'image_295', 'image_296', 'image_297', 'image_298', 'image_299', 'image_3', 'image_30', 'image_300', 'image_301', 'image_302', 'image_303', 'image_304', 'image_305', 'image_306', 'image_307', 'image_308', 'image_309', 'image_31', 'image_310', 'image_311', 'image_312', 'image_313', 'image_314', 'image_315', 'image_316', 'image_317', 'image_318', 'image_319', 'image_32', 'image_320', 'image_321', 'image_322', 'image_323', 'image_324', 'image_325', 'image_326', 'image_327', 'image_328', 'image_329', 'image_33', 'image_330', 'image_331', 'image_332', 'image_333', 'image_334', 'image_335', 'image_336', 'image_337', 'image_338', 'image_339', 'image_34', 'image_340', 'image_341', 'image_342', 'image_343', 'image_344', 'image_345', 'image_346', 'image_347', 'image_348', 'image_349', 'image_35', 'image_350', 'image_351', 'image_352', 'image_353', 'image_354', 'image_355', 'image_356', 'image_357', 'image_358', 'image_359', 'image_36', 'image_360', 'image_361', 'image_362', 'image_363', 'image_364', 'image_365', 'image_366', 'image_367', 'image_368', 'image_369', 'image_37', 'image_370', 'image_371', 'image_372', 'image_373', 'image_374', 'image_375', 'image_376', 'image_377', 'image_378', 'image_379', 'image_38', 'image_380', 'image_381', 'image_382', 'image_383', 'image_384', 'image_385', 'image_386', 'image_387', 'image_388', 'image_389', 'image_39', 'image_390', 'image_391', 'image_392', 'image_393', 'image_394', 'image_395', 'image_396', 'image_397', 'image_398', 'image_399', 'image_4', 'image_40', 'image_400', 'image_401', 'image_402', 'image_403', 'image_404', 'image_405', 'image_406', 'image_407', 'image_408', 'image_409', 'image_41', 'image_410', 'image_411', 'image_412', 'image_413', 'image_414', 'image_415', 'image_416', 'image_417', 'image_418', 'image_419', 'image_42', 'image_420', 'image_421', 'image_422', 'image_423', 'image_424', 'image_425', 'image_426', 'image_427', 'image_428', 'image_429', 'image_43', 'image_430', 'image_431', 'image_432', 'image_433', 'image_434', 'image_435', 'image_436', 'image_437', 'image_438', 'image_439', 'image_44', 'image_440', 'image_441', 'image_442', 'image_443', 'image_444', 'image_445', 'image_446', 'image_447', 'image_448', 'image_449', 'image_45', 'image_450', 'image_451', 'image_452', 'image_453', 'image_454', 'image_455', 'image_456', 'image_457', 'image_458', 'image_459', 'image_46', 'image_460', 'image_461', 'image_462', 'image_463', 'image_464', 'image_465', 'image_466', 'image_467', 'image_468', 'image_469', 'image_47', 'image_470', 'image_471', 'image_472', 'image_473', 'image_474', 'image_475', 'image_476', 'image_477', 'image_478', 'image_479', 'image_48', 'image_480', 'image_481', 'image_482', 'image_483', 'image_484', 'image_485', 'image_486', 'image_487', 'image_488', 'image_489', 'image_49', 'image_490', 'image_491', 'image_492', 'image_493', 'image_494', 'image_495', 'image_496', 'image_497', 'image_498', 'image_499', 'image_5', 'image_50', 'image_500', 'image_501', 'image_502', 'image_503', 'image_504', 'image_505', 'image_506', 'image_507', 'image_508', 'image_509', 'image_51', 'image_510', 'image_511', 'image_512', 'image_513', 'image_514', 'image_515', 'image_516', 'image_517', 'image_518', 'image_519', 'image_52', 'image_520', 'image_521', 'image_522', 'image_523', 'image_524', 'image_525', 'image_526', 'image_527', 'image_528', 'image_529', 'image_53', 'image_530', 'image_531', 'image_532', 'image_533', 'image_534', 'image_535', 'image_536', 'image_537', 'image_538', 'image_539', 'image_54', 'image_540', 'image_541', 'image_542', 'image_543', 'image_544', 'image_545', 'image_546', 'image_547', 'image_548', 'image_549', 'image_55', 'image_550', 'image_551', 'image_552', 'image_553', 'image_554', 'image_555', 'image_556', 'image_557', 'image_558', 'image_559', 'image_56', 'image_560', 'image_561', 'image_562', 'image_563', 'image_564', 'image_565', 'image_566', 'image_567', 'image_568', 'image_569', 'image_57', 'image_570', 'image_571', 'image_572', 'image_573', 'image_574', 'image_575', 'image_576', 'image_577', 'image_578', 'image_579', 'image_58', 'image_580', 'image_581', 'image_582', 'image_583', 'image_584', 'image_585', 'image_586', 'image_587', 'image_588', 'image_589', 'image_59', 'image_590', 'image_591', 'image_592', 'image_593', 'image_594', 'image_595', 'image_596', 'image_597', 'image_598', 'image_599', 'image_6', 'image_60', 'image_600', 'image_601', 'image_602', 'image_603', 'image_604', 'image_605', 'image_606', 'image_607', 'image_608', 'image_609', 'image_61', 'image_610', 'image_611', 'image_612', 'image_613', 'image_614', 'image_615', 'image_616', 'image_617', 'image_618', 'image_619', 'image_62', 'image_620', 'image_621', 'image_622', 'image_623', 'image_624', 'image_625', 'image_626', 'image_627', 'image_628', 'image_629', 'image_63', 'image_630', 'image_631', 'image_632', 'image_633', 'image_634', 'image_635', 'image_636', 'image_637', 'image_638', 'image_639', 'image_64', 'image_640', 'image_641', 'image_642', 'image_643', 'image_644', 'image_645', 'image_646', 'image_647', 'image_648', 'image_649', 'image_65', 'image_650', 'image_651', 'image_652', 'image_653', 'image_654', 'image_655', 'image_656', 'image_657', 'image_658', 'image_659', 'image_66', 'image_660', 'image_661', 'image_662', 'image_663', 'image_664', 'image_665', 'image_666', 'image_667', 'image_668', 'image_669', 'image_67', 'image_670', 'image_671', 'image_672', 'image_673', 'image_674', 'image_675', 'image_676', 'image_677', 'image_678', 'image_679', 'image_68', 'image_680', 'image_681', 'image_682', 'image_683', 'image_684', 'image_685', 'image_686', 'image_687', 'image_688', 'image_689', 'image_69', 'image_690', 'image_691', 'image_692', 'image_693', 'image_694', 'image_695', 'image_696', 'image_697', 'image_698', 'image_699', 'image_7', 'image_70', 'image_700', 'image_701', 'image_702', 'image_703', 'image_704', 'image_705', 'image_706', 'image_707', 'image_708', 'image_709', 'image_71', 'image_710', 'image_711', 'image_712', 'image_713', 'image_714', 'image_715', 'image_716', 'image_717', 'image_718', 'image_719', 'image_72', 'image_720', 'image_721', 'image_722', 'image_723', 'image_724', 'image_725', 'image_726', 'image_727', 'image_728', 'image_729', 'image_73', 'image_730', 'image_731', 'image_732', 'image_733', 'image_734', 'image_735', 'image_736', 'image_737', 'image_738', 'image_739', 'image_74', 'image_740', 'image_741', 'image_742', 'image_743', 'image_744', 'image_745', 'image_746', 'image_747', 'image_748', 'image_749', 'image_75', 'image_750', 'image_751', 'image_752', 'image_753', 'image_754', 'image_755', 'image_756', 'image_757', 'image_758', 'image_759', 'image_76', 'image_760', 'image_761', 'image_762', 'image_763', 'image_764', 'image_765', 'image_766', 'image_767', 'image_768', 'image_769', 'image_77', 'image_770', 'image_771', 'image_772', 'image_773', 'image_774', 'image_775', 'image_776', 'image_777', 'image_778', 'image_779', 'image_78', 'image_780', 'image_781', 'image_782', 'image_783', 'image_784', 'image_785', 'image_786', 'image_787', 'image_788', 'image_789', 'image_79', 'image_790', 'image_791', 'image_792', 'image_793', 'image_794', 'image_795', 'image_796', 'image_797', 'image_798', 'image_799', 'image_8', 'image_80', 'image_800', 'image_801', 'image_802', 'image_803', 'image_804', 'image_805', 'image_806', 'image_807', 'image_808', 'image_809', 'image_81', 'image_810', 'image_811', 'image_812', 'image_813', 'image_814', 'image_815', 'image_816', 'image_817', 'image_818', 'image_819', 'image_82', 'image_820', 'image_821', 'image_822', 'image_823', 'image_824', 'image_825', 'image_826', 'image_827', 'image_828', 'image_829', 'image_83', 'image_830', 'image_831', 'image_832', 'image_833', 'image_834', 'image_835', 'image_836', 'image_837', 'image_838', 'image_839', 'image_84', 'image_840', 'image_841', 'image_842', 'image_843', 'image_844', 'image_845', 'image_846', 'image_847', 'image_848', 'image_849', 'image_85', 'image_850', 'image_851', 'image_852', 'image_853', 'image_854', 'image_855', 'image_856', 'image_857', 'image_858', 'image_859', 'image_86', 'image_860', 'image_861', 'image_862', 'image_863', 'image_864', 'image_865', 'image_866', 'image_867', 'image_868', 'image_869', 'image_87', 'image_870', 'image_871', 'image_872', 'image_873', 'image_874', 'image_875', 'image_876', 'image_877', 'image_878', 'image_879', 'image_88', 'image_880', 'image_881', 'image_882', 'image_883', 'image_884', 'image_885', 'image_886', 'image_887', 'image_888', 'image_889', 'image_89', 'image_890', 'image_891', 'image_892', 'image_893', 'image_894', 'image_895', 'image_896', 'image_897', 'image_898', 'image_899', 'image_9', 'image_90', 'image_91', 'image_92', 'image_93', 'image_94', 'image_95', 'image_96', 'image_97', 'image_98', 'image_99']\n",
      "['image_0', 'image_1', 'image_10', 'image_100', 'image_101', 'image_102', 'image_104', 'image_105', 'image_106', 'image_107', 'image_108', 'image_109', 'image_11', 'image_110', 'image_111', 'image_112', 'image_113', 'image_114', 'image_115', 'image_116', 'image_117', 'image_118', 'image_119', 'image_12', 'image_120', 'image_121', 'image_122', 'image_124', 'image_125', 'image_126', 'image_127', 'image_128', 'image_129', 'image_13', 'image_130', 'image_131', 'image_132', 'image_133', 'image_134', 'image_135', 'image_136', 'image_137', 'image_138', 'image_139', 'image_14', 'image_140', 'image_141', 'image_142', 'image_143', 'image_144', 'image_145', 'image_146', 'image_147', 'image_148', 'image_149', 'image_15', 'image_150', 'image_151', 'image_152', 'image_153', 'image_154', 'image_155', 'image_156', 'image_157', 'image_158', 'image_159', 'image_16', 'image_160', 'image_161', 'image_162', 'image_163', 'image_164', 'image_165', 'image_166', 'image_167', 'image_168', 'image_169', 'image_17', 'image_170', 'image_171', 'image_172', 'image_173', 'image_174', 'image_175', 'image_176', 'image_177', 'image_178', 'image_179', 'image_18', 'image_180', 'image_181', 'image_182', 'image_183', 'image_184', 'image_185', 'image_186', 'image_187', 'image_188', 'image_189', 'image_19', 'image_190', 'image_191', 'image_192', 'image_193', 'image_194', 'image_195', 'image_196', 'image_197', 'image_198', 'image_199', 'image_2', 'image_20', 'image_200', 'image_201', 'image_202', 'image_203', 'image_204', 'image_205', 'image_206', 'image_207', 'image_208', 'image_209', 'image_21', 'image_210', 'image_211', 'image_213', 'image_214', 'image_215', 'image_216', 'image_217', 'image_218', 'image_219', 'image_22', 'image_220', 'image_221', 'image_222', 'image_223', 'image_224', 'image_225', 'image_226', 'image_227', 'image_229', 'image_23', 'image_230', 'image_231', 'image_232', 'image_233', 'image_234', 'image_235', 'image_236', 'image_237', 'image_238', 'image_239', 'image_24', 'image_240', 'image_241', 'image_242', 'image_243', 'image_244', 'image_245', 'image_246', 'image_247', 'image_248', 'image_249', 'image_25', 'image_250', 'image_251', 'image_252', 'image_253', 'image_254', 'image_255', 'image_256', 'image_257', 'image_258', 'image_259', 'image_26', 'image_260', 'image_261', 'image_262', 'image_263', 'image_264', 'image_265', 'image_266', 'image_267', 'image_268', 'image_269', 'image_27', 'image_270', 'image_271', 'image_272', 'image_273', 'image_274', 'image_275', 'image_276', 'image_277', 'image_278', 'image_279', 'image_28', 'image_280', 'image_281', 'image_282', 'image_283', 'image_284', 'image_285', 'image_286', 'image_287', 'image_289', 'image_29', 'image_291', 'image_292', 'image_293', 'image_294', 'image_295', 'image_296', 'image_298', 'image_299', 'image_3', 'image_30', 'image_300', 'image_301', 'image_302', 'image_303', 'image_304', 'image_305', 'image_306', 'image_307', 'image_308', 'image_309', 'image_31', 'image_310', 'image_311', 'image_312', 'image_313', 'image_314', 'image_315', 'image_316', 'image_317', 'image_318', 'image_319', 'image_32', 'image_320', 'image_321', 'image_322', 'image_323', 'image_324', 'image_325', 'image_326', 'image_327', 'image_328', 'image_330', 'image_331', 'image_332', 'image_333', 'image_334', 'image_335', 'image_336', 'image_337', 'image_338', 'image_339', 'image_34', 'image_340', 'image_341', 'image_342', 'image_343', 'image_344', 'image_345', 'image_346', 'image_347', 'image_348', 'image_349', 'image_35', 'image_350', 'image_351', 'image_352', 'image_353', 'image_354', 'image_355', 'image_356', 'image_357', 'image_358', 'image_359', 'image_36', 'image_360', 'image_361', 'image_362', 'image_363', 'image_364', 'image_365', 'image_366', 'image_367', 'image_368', 'image_369', 'image_370', 'image_371', 'image_372', 'image_373', 'image_374', 'image_375', 'image_376', 'image_377', 'image_378', 'image_38', 'image_380', 'image_381', 'image_382', 'image_383', 'image_384', 'image_385', 'image_386', 'image_387', 'image_388', 'image_389', 'image_39', 'image_390', 'image_391', 'image_392', 'image_393', 'image_394', 'image_395', 'image_396', 'image_397', 'image_398', 'image_399', 'image_4', 'image_40', 'image_400', 'image_401', 'image_402', 'image_403', 'image_404', 'image_405', 'image_406', 'image_407', 'image_408', 'image_409', 'image_410', 'image_411', 'image_412', 'image_413', 'image_414', 'image_415', 'image_417', 'image_418', 'image_419', 'image_42', 'image_420', 'image_421', 'image_422', 'image_423', 'image_425', 'image_426', 'image_427', 'image_428', 'image_429', 'image_43', 'image_430', 'image_431', 'image_432', 'image_433', 'image_434', 'image_435', 'image_436', 'image_437', 'image_438', 'image_439', 'image_44', 'image_440', 'image_441', 'image_442', 'image_443', 'image_444', 'image_445', 'image_446', 'image_447', 'image_448', 'image_449', 'image_45', 'image_450', 'image_451', 'image_452', 'image_453', 'image_454', 'image_455', 'image_457', 'image_458', 'image_459', 'image_46', 'image_460', 'image_461', 'image_462', 'image_463', 'image_464', 'image_465', 'image_466', 'image_467', 'image_468', 'image_469', 'image_47', 'image_470', 'image_471', 'image_472', 'image_473', 'image_474', 'image_475', 'image_476', 'image_477', 'image_478', 'image_479', 'image_48', 'image_480', 'image_481', 'image_482', 'image_483', 'image_486', 'image_487', 'image_488', 'image_489', 'image_49', 'image_490', 'image_491', 'image_492', 'image_493', 'image_494', 'image_496', 'image_497', 'image_498', 'image_499', 'image_5', 'image_50', 'image_500', 'image_501', 'image_502', 'image_503', 'image_504', 'image_505', 'image_506', 'image_507', 'image_508', 'image_509', 'image_51', 'image_510', 'image_511', 'image_512', 'image_513', 'image_514', 'image_516', 'image_517', 'image_518', 'image_519', 'image_52', 'image_520', 'image_521', 'image_522', 'image_523', 'image_524', 'image_525', 'image_526', 'image_527', 'image_528', 'image_529', 'image_53', 'image_530', 'image_531', 'image_532', 'image_533', 'image_534', 'image_535', 'image_536', 'image_537', 'image_538', 'image_539', 'image_54', 'image_540', 'image_541', 'image_542', 'image_543', 'image_544', 'image_545', 'image_546', 'image_547', 'image_548', 'image_549', 'image_55', 'image_550', 'image_551', 'image_552', 'image_553', 'image_554', 'image_555', 'image_556', 'image_557', 'image_558', 'image_559', 'image_56', 'image_560', 'image_561', 'image_562', 'image_563', 'image_564', 'image_565', 'image_566', 'image_567', 'image_568', 'image_569', 'image_57', 'image_570', 'image_571', 'image_572', 'image_573', 'image_574', 'image_575', 'image_576', 'image_577', 'image_578', 'image_579', 'image_58', 'image_580', 'image_581', 'image_582', 'image_583', 'image_584', 'image_585', 'image_586', 'image_587', 'image_588', 'image_589', 'image_59', 'image_590', 'image_591', 'image_592', 'image_593', 'image_594', 'image_595', 'image_596', 'image_597', 'image_598', 'image_599', 'image_6', 'image_60', 'image_600', 'image_601', 'image_602', 'image_603', 'image_604', 'image_605', 'image_606', 'image_607', 'image_608', 'image_609', 'image_61', 'image_610', 'image_611', 'image_613', 'image_614', 'image_615', 'image_616', 'image_617', 'image_618', 'image_619', 'image_62', 'image_620', 'image_621', 'image_622', 'image_623', 'image_624', 'image_625', 'image_626', 'image_627', 'image_628', 'image_629', 'image_63', 'image_630', 'image_631', 'image_632', 'image_633', 'image_634', 'image_635', 'image_636', 'image_637', 'image_638', 'image_639', 'image_64', 'image_640', 'image_641', 'image_642', 'image_643', 'image_644', 'image_645', 'image_646', 'image_647', 'image_648', 'image_649', 'image_65', 'image_650', 'image_651', 'image_652', 'image_653', 'image_654', 'image_655', 'image_656', 'image_657', 'image_658', 'image_659', 'image_66', 'image_660', 'image_661', 'image_662', 'image_663', 'image_664', 'image_665', 'image_666', 'image_667', 'image_668', 'image_669', 'image_67', 'image_670', 'image_671', 'image_672', 'image_673', 'image_675', 'image_676', 'image_677', 'image_678', 'image_679', 'image_68', 'image_680', 'image_682', 'image_683', 'image_684', 'image_685', 'image_686', 'image_687', 'image_688', 'image_689', 'image_69', 'image_690', 'image_691', 'image_692', 'image_693', 'image_694', 'image_695', 'image_696', 'image_697', 'image_698', 'image_699', 'image_7', 'image_70', 'image_700', 'image_701', 'image_71', 'image_72', 'image_722', 'image_723', 'image_724', 'image_725', 'image_726', 'image_727', 'image_728', 'image_729', 'image_73', 'image_730', 'image_731', 'image_732', 'image_733', 'image_734', 'image_735', 'image_736', 'image_737', 'image_738', 'image_739', 'image_74', 'image_740', 'image_741', 'image_742', 'image_743', 'image_744', 'image_745', 'image_746', 'image_747', 'image_748', 'image_749', 'image_75', 'image_750', 'image_751', 'image_752', 'image_753', 'image_754', 'image_755', 'image_756', 'image_757', 'image_758', 'image_759', 'image_76', 'image_760', 'image_761', 'image_762', 'image_763', 'image_764', 'image_765', 'image_766', 'image_767', 'image_768', 'image_769', 'image_77', 'image_770', 'image_771', 'image_772', 'image_773', 'image_774', 'image_775', 'image_776', 'image_777', 'image_778', 'image_779', 'image_78', 'image_780', 'image_781', 'image_782', 'image_783', 'image_784', 'image_785', 'image_786', 'image_787', 'image_788', 'image_789', 'image_79', 'image_790', 'image_791', 'image_792', 'image_793', 'image_794', 'image_795', 'image_796', 'image_797', 'image_798', 'image_799', 'image_8', 'image_80', 'image_800', 'image_802', 'image_803', 'image_804', 'image_805', 'image_806', 'image_807', 'image_808', 'image_809', 'image_81', 'image_810', 'image_811', 'image_812', 'image_813', 'image_814', 'image_815', 'image_816', 'image_817', 'image_818', 'image_819', 'image_82', 'image_820', 'image_821', 'image_822', 'image_823', 'image_824', 'image_825', 'image_826', 'image_827', 'image_828', 'image_829', 'image_83', 'image_830', 'image_831', 'image_832', 'image_833', 'image_834', 'image_835', 'image_836', 'image_837', 'image_838', 'image_839', 'image_84', 'image_840', 'image_841', 'image_842', 'image_843', 'image_844', 'image_845', 'image_846', 'image_847', 'image_848', 'image_849', 'image_85', 'image_850', 'image_851', 'image_852', 'image_853', 'image_854', 'image_855', 'image_856', 'image_857', 'image_858', 'image_859', 'image_86', 'image_860', 'image_861', 'image_862', 'image_863', 'image_864', 'image_865', 'image_866', 'image_867', 'image_868', 'image_869', 'image_87', 'image_870', 'image_871', 'image_872', 'image_873', 'image_874', 'image_875', 'image_876', 'image_877', 'image_878', 'image_879', 'image_88', 'image_880', 'image_881', 'image_882', 'image_883', 'image_884', 'image_885', 'image_886', 'image_887', 'image_888', 'image_889', 'image_89', 'image_890', 'image_891', 'image_892', 'image_893', 'image_894', 'image_895', 'image_896', 'image_897', 'image_898', 'image_899', 'image_9', 'image_90', 'image_91', 'image_92', 'image_93', 'image_94', 'image_95', 'image_96', 'image_97', 'image_98', 'image_99']\n",
      "removing image_103\n",
      "removing image_123\n",
      "removing image_212\n",
      "removing image_228\n",
      "removing image_288\n",
      "removing image_290\n",
      "removing image_297\n",
      "removing image_329\n",
      "removing image_33\n",
      "removing image_37\n",
      "removing image_379\n",
      "removing image_41\n",
      "removing image_416\n",
      "removing image_424\n",
      "removing image_456\n",
      "removing image_484\n",
      "removing image_485\n",
      "removing image_495\n",
      "removing image_515\n",
      "removing image_612\n",
      "removing image_674\n",
      "removing image_681\n",
      "removing image_702\n",
      "removing image_703\n",
      "removing image_704\n",
      "removing image_705\n",
      "removing image_706\n",
      "removing image_707\n",
      "removing image_708\n",
      "removing image_709\n",
      "removing image_710\n",
      "removing image_711\n",
      "removing image_712\n",
      "removing image_713\n",
      "removing image_714\n",
      "removing image_715\n",
      "removing image_716\n",
      "removing image_717\n",
      "removing image_718\n",
      "removing image_719\n",
      "removing image_720\n",
      "removing image_721\n",
      "removing image_801\n"
     ]
    }
   ],
   "source": [
    "dirs=['Train']\n",
    "images=\"Images\"\n",
    "labels=\"Labels\"\n",
    "\n",
    "for i in dirs:\n",
    "    img_dir=os.path.join(i,images)\n",
    "    lab_dir=os.path.join(i,labels)\n",
    "    imgs=os.listdir(img_dir)\n",
    "    lbs=os.listdir(lab_dir)\n",
    "    imgs=[i.split(\".\")[0] for i in imgs]\n",
    "    lbs=[i.split(\".\")[0]  for i in lbs]\n",
    "    print(imgs)\n",
    "    print(lbs)\n",
    "    for i in imgs:\n",
    "        if i not in lbs:\n",
    "            print(f\"removing {i}\")\n",
    "            try:\n",
    "                os.remove(os.path.join(img_dir,i+\".jpg\"))\n",
    "            except:\n",
    "                os.remove(os.path.join(img_dir,i+\".jpeg\"))"
   ]
  },
  {
   "cell_type": "code",
   "execution_count": 17,
   "metadata": {},
   "outputs": [
    {
     "data": {
      "text/plain": [
       "'abaddf'"
      ]
     },
     "execution_count": 17,
     "metadata": {},
     "output_type": "execute_result"
    }
   ],
   "source": [
    "a='abaddf.jpg'\n",
    "a[:-4]"
   ]
  },
  {
   "cell_type": "code",
   "execution_count": null,
   "metadata": {},
   "outputs": [],
   "source": []
  }
 ],
 "metadata": {
  "kernelspec": {
   "display_name": "Python 3",
   "language": "python",
   "name": "python3"
  },
  "language_info": {
   "codemirror_mode": {
    "name": "ipython",
    "version": 3
   },
   "file_extension": ".py",
   "mimetype": "text/x-python",
   "name": "python",
   "nbconvert_exporter": "python",
   "pygments_lexer": "ipython3",
   "version": "3.10.6"
  }
 },
 "nbformat": 4,
 "nbformat_minor": 2
}
